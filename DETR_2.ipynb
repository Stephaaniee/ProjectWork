{
  "nbformat": 4,
  "nbformat_minor": 0,
  "metadata": {
    "colab": {
      "provenance": [],
      "gpuType": "T4",
      "authorship_tag": "ABX9TyMxWPPYQO9WW0q1p9JVgEGf",
      "include_colab_link": true
    },
    "kernelspec": {
      "name": "python3",
      "display_name": "Python 3"
    },
    "language_info": {
      "name": "python"
    },
    "accelerator": "GPU"
  },
  "cells": [
    {
      "cell_type": "markdown",
      "metadata": {
        "id": "view-in-github",
        "colab_type": "text"
      },
      "source": [
        "<a href=\"https://colab.research.google.com/github/Stephaaniee/ProjectWork/blob/main/DETR_2.ipynb\" target=\"_parent\"><img src=\"https://colab.research.google.com/assets/colab-badge.svg\" alt=\"Open In Colab\"/></a>"
      ]
    },
    {
      "cell_type": "markdown",
      "source": [
        "### Load and Preprocess Images"
      ],
      "metadata": {
        "id": "29X22A6s11SH"
      }
    },
    {
      "cell_type": "code",
      "source": [
        "import numpy as np\n",
        "import os\n",
        "import PIL\n",
        "import PIL.Image\n",
        "import tensorflow as tf\n",
        "import tensorflow_datasets as tfds\n",
        "from fastai.vision.all import *\n",
        "from fastai.data.core import DataLoader\n",
        "import random\n",
        "import re\n",
        "from fastai.data.external import untar_data, URLs\n",
        "from fastai.data.transforms import get_image_files\n",
        "from fastai.data.core import DataLoaders\n",
        "from fastbook import *\n",
        "import torch\n",
        "import pathlib"
      ],
      "metadata": {
        "id": "e38EtyGp15vs"
      },
      "execution_count": null,
      "outputs": []
    },
    {
      "cell_type": "code",
      "source": [
        "dataset_url = \"https://hshl.sciebo.de/s/29IxZnIdXBbFPZ4\"\n",
        "data_dir = tf.keras.utils.get_file(origin= dataset_url,\n",
        "                                   fname= 'sugar_beets',\n",
        "                                   untar=True)\n",
        "data_dir = pathlib.Path(data_dir)"
      ],
      "metadata": {
        "id": "8Z1XKND62dA7"
      },
      "execution_count": null,
      "outputs": []
    },
    {
      "cell_type": "code",
      "source": [
        "image_count = len(list())"
      ],
      "metadata": {
        "id": "e67m7RHv4hvY"
      },
      "execution_count": null,
      "outputs": []
    }
  ]
}